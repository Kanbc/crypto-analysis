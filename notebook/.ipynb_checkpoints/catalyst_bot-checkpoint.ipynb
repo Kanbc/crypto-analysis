{
 "cells": [
  {
   "cell_type": "markdown",
   "metadata": {},
   "source": [
    "**Activate the environment **"
   ]
  },
  {
   "cell_type": "markdown",
   "metadata": {},
   "source": [
    "`$ source activate catalyst`\n"
   ]
  },
  {
   "cell_type": "markdown",
   "metadata": {},
   "source": [
    "**Verify that Catalyst** is install correctly:"
   ]
  },
  {
   "cell_type": "markdown",
   "metadata": {},
   "source": [
    "`$ catalyst --version`"
   ]
  },
  {
   "cell_type": "markdown",
   "metadata": {},
   "source": [
    "**To deactivate** an active environment, use:\n",
    "\n",
    "`$ source deactivate`"
   ]
  },
  {
   "cell_type": "markdown",
   "metadata": {},
   "source": [
    "**Jupyter Notebook**"
   ]
  },
  {
   "cell_type": "markdown",
   "metadata": {},
   "source": [
    "อยู่ใน env ของ (catalyst) แล้ว run jupyter notebook จะได้ jupyter notebook ที่มี env ของ catalyst"
   ]
  },
  {
   "cell_type": "markdown",
   "metadata": {},
   "source": [
    "`(catalyst)$ jupyter notebook`"
   ]
  },
  {
   "cell_type": "markdown",
   "metadata": {},
   "source": [
    "# Setup"
   ]
  },
  {
   "cell_type": "markdown",
   "metadata": {},
   "source": [
    "request เพื่อตรวจสอบราคาทุกๆนาที ดังนั้นในวันหนึ่งจะ request 24x60 = 1440 ครั้ง\n",
    "\n",
    "จะได้ 1,440 ครั้ง/day/เหรียญ"
   ]
  },
  {
   "cell_type": "markdown",
   "metadata": {},
   "source": [
    "#### Ingesting data"
   ]
  },
  {
   "cell_type": "markdown",
   "metadata": {},
   "source": [
    "Please remember to ingest the data that you need from the console since that functionality is not supported from within the Notebook. For the example below, you first need to run the following from the CLI:"
   ]
  },
  {
   "cell_type": "code",
   "execution_count": 1,
   "metadata": {},
   "outputs": [
    {
     "name": "stdout",
     "output_type": "stream",
     "text": [
      "Trying to ingest exchange bundle binance...\n",
      "Ingesting minute price data on binance\n"
     ]
    }
   ],
   "source": [
    "%%bash\n",
    "catalyst ingest-exchange -x binance -f minute -i bat_btc"
   ]
  },
  {
   "cell_type": "code",
   "execution_count": 2,
   "metadata": {},
   "outputs": [],
   "source": [
    "# Register the catalyst magic\n",
    "%load_ext catalyst"
   ]
  },
  {
   "cell_type": "code",
   "execution_count": 3,
   "metadata": {},
   "outputs": [],
   "source": [
    "# Setup matplotlib to display graphs inline in this Notebook\n",
    "%matplotlib inline"
   ]
  },
  {
   "cell_type": "code",
   "execution_count": null,
   "metadata": {
    "scrolled": false
   },
   "outputs": [
    {
     "name": "stderr",
     "output_type": "stream",
     "text": [
      "[2018-07-14 06:01:24.577000] WARNING: run_algo: Catalyst is currently in ALPHA. It is going through rapid development and it is subject to errors. Please use carefully. We encourage you to report any issue on GitHub: https://github.com/enigmampc/catalyst/issues\n",
      "[2018-07-14 06:01:24.587218] INFO: run_algo: Catalyst version 0.5.15\n",
      "[2018-07-14 06:01:27.597958] INFO: run_algo: running algo in backtest mode\n",
      "[2018-07-14 06:01:27.672361] INFO: exchange_algorithm: initialized trading algorithm in backtest mode\n"
     ]
    }
   ],
   "source": [
    "# %%catalyst --start 2018-1-1 --end 2018-7-12 --capital-base 100000 -x binance -c btc --data-frequency minute\n",
    "\n",
    "import matplotlib.pyplot as plt\n",
    "import numpy as np\n",
    "import pandas as pd\n",
    "from logbook import Logger\n",
    "\n",
    "from catalyst import run_algorithm\n",
    "from catalyst.api import (record, symbol, order_target_percent,)\n",
    "from catalyst.exchange.utils.stats_utils import extract_transactions\n",
    "\n",
    "NAMESPACE = 'dual_moving_average'\n",
    "log = Logger(NAMESPACE)\n",
    "\n",
    "\n",
    "def initialize(context):\n",
    "    context.i = 0\n",
    "    context.asset = symbol('bat_btc')\n",
    "    context.base_price = None\n",
    "\n",
    "\n",
    "def handle_data(context, data):\n",
    "    # define the windows for the moving averages\n",
    "    short_window = 10\n",
    "    long_window = 20\n",
    "\n",
    "    # Skip as many bars as long_window to properly compute the average\n",
    "    context.i += 1\n",
    "    if context.i < long_window:\n",
    "        return\n",
    "\n",
    "    # Compute moving averages calling data.history() for each\n",
    "    # moving average with the appropriate parameters. We choose to use\n",
    "    # minute bars for this simulation -> freq=\"1m\"\n",
    "    # Returns a pandas dataframe.\n",
    "    short_data = data.history(context.asset,\n",
    "                              'price',\n",
    "                              bar_count=short_window,\n",
    "                              frequency=\"1T\",\n",
    "                              )\n",
    "    short_mavg = short_data.mean()\n",
    "    long_data = data.history(context.asset,\n",
    "                             'price',\n",
    "                             bar_count=long_window,\n",
    "                             frequency=\"1T\",\n",
    "                             )\n",
    "    long_mavg = long_data.mean()\n",
    "\n",
    "    # Let's keep the price of our asset in a more handy variable\n",
    "    price = data.current(context.asset, 'price')\n",
    "\n",
    "    # If base_price is not set, we use the current value. This is the\n",
    "    # price at the first bar which we reference to calculate price_change.\n",
    "    if context.base_price is None:\n",
    "        context.base_price = price\n",
    "    price_change = (price - context.base_price) / context.base_price\n",
    "\n",
    "    # Save values for later inspection\n",
    "    record(price=price,\n",
    "           cash=context.portfolio.cash,\n",
    "           price_change=price_change,\n",
    "           short_mavg=short_mavg,\n",
    "           long_mavg=long_mavg)\n",
    "\n",
    "    # Since we are using limit orders, some orders may not execute immediately\n",
    "    # we wait until all orders are executed before considering more trades.\n",
    "    orders = context.blotter.open_orders\n",
    "    if len(orders) > 0:\n",
    "        return\n",
    "\n",
    "    # Exit if we cannot trade\n",
    "    if not data.can_trade(context.asset):\n",
    "        return\n",
    "\n",
    "    # We check what's our position on our portfolio and trade accordingly\n",
    "    pos_amount = context.portfolio.positions[context.asset].amount\n",
    "\n",
    "    # Trading logic\n",
    "    if short_mavg > long_mavg and pos_amount == 0:\n",
    "        # we buy 100% of our portfolio for this asset\n",
    "        order_target_percent(context.asset, 1)\n",
    "    elif short_mavg < long_mavg and pos_amount > 0:\n",
    "        # we sell all our positions for this asset\n",
    "        order_target_percent(context.asset, 0)\n",
    "\n",
    "\n",
    "def analyze(context, perf):\n",
    "    # Get the quote_currency that was passed as a parameter to the simulation\n",
    "    exchange = list(context.exchanges.values())[0]\n",
    "    quote_currency = exchange.quote_currency.upper()\n",
    "\n",
    "    plt.figure(figsize = (15,8))\n",
    "    # First chart: Plot portfolio value using quote_currency\n",
    "    ax1 = plt.subplot(411)\n",
    "    perf.loc[:, ['portfolio_value']].plot(ax=ax1)\n",
    "    ax1.legend_.remove()\n",
    "    ax1.set_ylabel('Portfolio Value\\n({})'.format(quote_currency))\n",
    "    start, end = ax1.get_ylim()\n",
    "    ax1.yaxis.set_ticks(np.arange(start, end, (end - start) / 5))\n",
    "\n",
    "    # Second chart: Plot asset price, moving averages and buys/sells\n",
    "    ax2 = plt.subplot(412, sharex=ax1)\n",
    "    perf.loc[:, ['price', 'short_mavg', 'long_mavg']].plot(\n",
    "        ax=ax2,\n",
    "        label='Price')\n",
    "    ax2.legend_.remove()\n",
    "    ax2.set_ylabel('{asset}\\n({quote})'.format(\n",
    "        asset=context.asset.symbol,\n",
    "        quote=quote_currency\n",
    "    ))\n",
    "    start, end = ax2.get_ylim()\n",
    "    ax2.yaxis.set_ticks(np.arange(start, end, (end - start) / 5))\n",
    "\n",
    "    transaction_df = extract_transactions(perf)\n",
    "    if not transaction_df.empty:\n",
    "        buy_df = transaction_df[transaction_df['amount'] > 0]\n",
    "        sell_df = transaction_df[transaction_df['amount'] < 0]\n",
    "        ax2.scatter(\n",
    "            buy_df.index.to_pydatetime(),\n",
    "            perf.loc[buy_df.index, 'price'],\n",
    "            marker='^',\n",
    "            s=100,\n",
    "            c='green',\n",
    "            label=''\n",
    "        )\n",
    "        ax2.scatter(\n",
    "            sell_df.index.to_pydatetime(),\n",
    "            perf.loc[sell_df.index, 'price'],\n",
    "            marker='v',\n",
    "            s=100,\n",
    "            c='red',\n",
    "            label=''\n",
    "        )\n",
    "\n",
    "    # Third chart: Compare percentage change between our portfolio\n",
    "    # and the price of the asset\n",
    "    ax3 = plt.subplot(413, sharex=ax1)\n",
    "    perf.loc[:, ['algorithm_period_return', 'price_change']].plot(ax=ax3)\n",
    "    ax3.legend_.remove()\n",
    "    ax3.set_ylabel('Percent Change')\n",
    "    start, end = ax3.get_ylim()\n",
    "    ax3.yaxis.set_ticks(np.arange(start, end, (end - start) / 5))\n",
    "\n",
    "    # Fourth chart: Plot our cash\n",
    "    ax4 = plt.subplot(414, sharex=ax1)\n",
    "    perf.cash.plot(ax=ax4)\n",
    "    ax4.set_ylabel('Cash\\n({})'.format(quote_currency))\n",
    "    start, end = ax4.get_ylim()\n",
    "    ax4.yaxis.set_ticks(np.arange(0, end, end / 5))\n",
    "\n",
    "    plt.show()\n",
    "\n",
    "\n",
    "if __name__ == '__main__':\n",
    "    \n",
    "    run_algorithm(\n",
    "            capital_base=1000,\n",
    "            data_frequency='minute',\n",
    "            initialize=initialize,\n",
    "            handle_data=handle_data,\n",
    "            analyze=analyze,\n",
    "            exchange_name='binance',\n",
    "            algo_namespace=NAMESPACE,\n",
    "            quote_currency='btc',\n",
    "            start=pd.to_datetime('2018-05-01', utc=True),\n",
    "            end=pd.to_datetime('2018-07-11', utc=True),\n",
    "        )"
   ]
  },
  {
   "cell_type": "code",
   "execution_count": null,
   "metadata": {
    "collapsed": true
   },
   "outputs": [],
   "source": []
  }
 ],
 "metadata": {
  "kernelspec": {
   "display_name": "Python 3",
   "language": "python",
   "name": "python3"
  },
  "language_info": {
   "codemirror_mode": {
    "name": "ipython",
    "version": 3
   },
   "file_extension": ".py",
   "mimetype": "text/x-python",
   "name": "python",
   "nbconvert_exporter": "python",
   "pygments_lexer": "ipython3",
   "version": "3.6.4"
  }
 },
 "nbformat": 4,
 "nbformat_minor": 2
}
