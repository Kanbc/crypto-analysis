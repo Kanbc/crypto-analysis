{
 "cells": [
  {
   "cell_type": "markdown",
   "metadata": {},
   "source": [
    "# AI Based Investment Process"
   ]
  },
  {
   "cell_type": "markdown",
   "metadata": {},
   "source": [
    "![](img/ai-based-investment-process.png)"
   ]
  },
  {
   "cell_type": "markdown",
   "metadata": {},
   "source": [
    "จากภาพข้างต้นรวบรวมข้อมูลแบบเดียวกัน แต่เป็นของ Crypto Currency"
   ]
  },
  {
   "cell_type": "markdown",
   "metadata": {},
   "source": [
    " - Market Place\n",
    " - Social Trading\n",
    " - Steaming Pro (Robinhood.com)"
   ]
  },
  {
   "cell_type": "markdown",
   "metadata": {},
   "source": [
    "## Crypto"
   ]
  },
  {
   "cell_type": "markdown",
   "metadata": {},
   "source": [
    "จากเงินต้น 10k เดือนถัดไปเก็บเพิ่มเดือนละ 10k ได้เดือนละ 50% ผ่านไป 1 ปี จะมีเงินเก็บดังนี้"
   ]
  },
  {
   "cell_type": "code",
   "execution_count": 10,
   "metadata": {},
   "outputs": [
    {
     "name": "stdout",
     "output_type": "stream",
     "text": [
      "เงินต้น : 130000\n",
      "ผลลัพธ์ : 976250.35530751\n",
      "ส่วนต่าง : 846250.35530751\n"
     ]
    }
   ],
   "source": [
    "x0 = 10*1000\n",
    "y = 10*1000\n",
    "n = 1*12\n",
    "x = x0\n",
    "for i in range(n):\n",
    "    x = x + 0.3*x + y\n",
    "print('เงินต้น :',x0+n*y)\n",
    "print('ผลลัพธ์ :',x)\n",
    "print('ส่วนต่าง :',x-x0-n*y)"
   ]
  },
  {
   "cell_type": "markdown",
   "metadata": {},
   "source": [
    "ถ้าถอนมา 2.75M เหลือเงินต้น 2M และถอนมาใช้เดือนละ 50k จะได้"
   ]
  },
  {
   "cell_type": "code",
   "execution_count": 2,
   "metadata": {},
   "outputs": [
    {
     "name": "stdout",
     "output_type": "stream",
     "text": [
      "เงินต้น : 2000000\n",
      "ผลลัพธ์ : 139369482.60593396\n",
      "ส่วนต่าง : 137369482.60593396\n"
     ]
    }
   ],
   "source": [
    "x20 = 2000000\n",
    "y2 = -50000\n",
    "time = 24\n",
    "x2 = x20\n",
    "for i in range(24):\n",
    "    x2 = x2 + 0.2*x2 + y2\n",
    "\n",
    "print('เงินต้น :',x20)\n",
    "print('ผลลัพธ์ :',x2)\n",
    "print('ส่วนต่าง :',x2-x20)"
   ]
  },
  {
   "cell_type": "markdown",
   "metadata": {},
   "source": [
    "จากเงินต้น 10k วันละ 3%"
   ]
  },
  {
   "cell_type": "code",
   "execution_count": 11,
   "metadata": {},
   "outputs": [
    {
     "name": "stdout",
     "output_type": "stream",
     "text": [
      "เงินต้น : 10000\n",
      "ผลลัพธ์ : 484.83 M\n",
      "ส่วนต่าง : 484.82 M\n"
     ]
    }
   ],
   "source": [
    "x0 = 10*1000\n",
    "n = 365\n",
    "x = 10*1000\n",
    "for i in range(n):\n",
    "    x = x + 0.03*x\n",
    "print('เงินต้น :',x0)\n",
    "print('ผลลัพธ์ :', round(x/(10**6),2), \"M\")\n",
    "print('ส่วนต่าง :',round((x-x0)/(10**6),2), \"M\")"
   ]
  },
  {
   "cell_type": "markdown",
   "metadata": {},
   "source": [
    "# Goal"
   ]
  },
  {
   "cell_type": "markdown",
   "metadata": {},
   "source": [
    "- เงินต้น 15k  \n",
    "- +1%/day\n",
    "- trigger every 15min"
   ]
  },
  {
   "cell_type": "code",
   "execution_count": 21,
   "metadata": {},
   "outputs": [
    {
     "name": "stdout",
     "output_type": "stream",
     "text": [
      "เงินต้น : 15000\n",
      "ผลลัพธ์ : 566751.5149933076\n",
      "ส่วนต่าง : 551751.5149933076\n"
     ]
    }
   ],
   "source": [
    "initial_money = 15000\n",
    "interest = 0.01\n",
    "number_of_day = 365\n",
    "\n",
    "x = initial_money\n",
    "for i in range(number_of_day):\n",
    "    x = x + interest*x\n",
    "    \n",
    "print('เงินต้น :',initial_money)\n",
    "print('ผลลัพธ์ :',x)\n",
    "print('ส่วนต่าง :',x - initial_money)"
   ]
  },
  {
   "cell_type": "markdown",
   "metadata": {},
   "source": [
    "## หุ้น"
   ]
  },
  {
   "cell_type": "markdown",
   "metadata": {},
   "source": [
    "เก็บปีแรก 100k ปีถัดไปเก็บเพิ่มปีละ 100k ผ่านไป 25 ปี (อายุ 50) จะมีเงินเก็บดังนี้"
   ]
  },
  {
   "cell_type": "code",
   "execution_count": 6,
   "metadata": {},
   "outputs": [
    {
     "name": "stdout",
     "output_type": "stream",
     "text": [
      "เงินต้น : 32.6 M\n",
      "ผลลัพธ์ : 117.95 M\n",
      "ส่วนต่าง : 85.35 M\n"
     ]
    }
   ],
   "source": [
    "principal0 = 100*1000\n",
    "annual_add = 100*1000\n",
    "\n",
    "year = 50-24 \n",
    "\n",
    "all_principal = principal0\n",
    "all_money = principal0\n",
    "\n",
    "interest = 0.12\n",
    "\n",
    "for i in range(year):\n",
    "    all_principal = all_principal + i*annual_add \n",
    "    all_money = (all_money + i*annual_add)*(1+interest)\n",
    "    \n",
    "print('เงินต้น :', round(all_principal/(10**6), 2), 'M') \n",
    "print('ผลลัพธ์ :', round(all_money/(10**6), 2), 'M')\n",
    "print('ส่วนต่าง :', round((all_money-all_principal)/(10**6), 2),'M')"
   ]
  },
  {
   "cell_type": "markdown",
   "metadata": {},
   "source": [
    "## Idea\n",
    "- แบบในรูปข้างบน\n",
    "\n",
    "## Type of Bot\n",
    "- Arbitrage Trading Bot : buying assets in one market and then selling them in another for a higher price, thus earning profit on the difference.\n",
    "- Market Making : ทำให้สุดแบบในรูปข้างบน"
   ]
  },
  {
   "cell_type": "markdown",
   "metadata": {},
   "source": [
    "![](img/trader-bot-structure.png)"
   ]
  },
  {
   "cell_type": "code",
   "execution_count": null,
   "metadata": {},
   "outputs": [],
   "source": []
  }
 ],
 "metadata": {
  "kernelspec": {
   "display_name": "Python 3",
   "language": "python",
   "name": "python3"
  },
  "language_info": {
   "codemirror_mode": {
    "name": "ipython",
    "version": 3
   },
   "file_extension": ".py",
   "mimetype": "text/x-python",
   "name": "python",
   "nbconvert_exporter": "python",
   "pygments_lexer": "ipython3",
   "version": "3.6.1"
  }
 },
 "nbformat": 4,
 "nbformat_minor": 2
}
