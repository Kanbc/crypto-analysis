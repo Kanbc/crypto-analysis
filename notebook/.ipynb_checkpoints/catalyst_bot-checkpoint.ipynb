{
 "cells": [
  {
   "cell_type": "markdown",
   "metadata": {},
   "source": [
    "**Activate the environment **"
   ]
  },
  {
   "cell_type": "markdown",
   "metadata": {},
   "source": [
    "`$ source activate catalyst`\n"
   ]
  },
  {
   "cell_type": "markdown",
   "metadata": {},
   "source": [
    "**Verify that Catalyst** is install correctly:"
   ]
  },
  {
   "cell_type": "markdown",
   "metadata": {},
   "source": [
    "`$ catalyst --version`"
   ]
  },
  {
   "cell_type": "markdown",
   "metadata": {},
   "source": [
    "**To deactivate** an active environment, use:\n",
    "\n",
    "`$ source deactivate`"
   ]
  },
  {
   "cell_type": "markdown",
   "metadata": {},
   "source": [
    "**Jupyter Notebook**"
   ]
  },
  {
   "cell_type": "markdown",
   "metadata": {},
   "source": [
    "อยู่ใน env ของ (catalyst) แล้ว run jupyter notebook จะได้ jupyter notebook ที่มี env ของ catalyst"
   ]
  },
  {
   "cell_type": "markdown",
   "metadata": {},
   "source": [
    "`(catalyst)$ jupyter notebook`"
   ]
  },
  {
   "cell_type": "markdown",
   "metadata": {},
   "source": [
    "# Setup"
   ]
  },
  {
   "cell_type": "markdown",
   "metadata": {},
   "source": [
    "request เพื่อตรวจสอบราคาทุกๆนาที ดังนั้นในวันหนึ่งจะ request 24x60 = 1440 ครั้ง\n",
    "\n",
    "จะได้ 1,440 ครั้ง/day/เหรียญ"
   ]
  },
  {
   "cell_type": "markdown",
   "metadata": {},
   "source": [
    "#### Ingesting data"
   ]
  },
  {
   "cell_type": "markdown",
   "metadata": {},
   "source": [
    "Please remember to ingest the data that you need from the console since that functionality is not supported from within the Notebook. For the example below, you first need to run the following from the CLI:"
   ]
  },
  {
   "cell_type": "code",
   "execution_count": 15,
   "metadata": {},
   "outputs": [
    {
     "name": "stdout",
     "output_type": "stream",
     "text": [
      "Trying to ingest exchange bundle binance...\n",
      "Ingesting minute price data on binance\n"
     ]
    }
   ],
   "source": [
    "%%bash\n",
    "catalyst ingest-exchange -x binance -f minute -i bat_btc"
   ]
  },
  {
   "cell_type": "code",
   "execution_count": 4,
   "metadata": {},
   "outputs": [],
   "source": [
    "# Register the catalyst magic\n",
    "%load_ext catalyst"
   ]
  },
  {
   "cell_type": "code",
   "execution_count": 7,
   "metadata": {},
   "outputs": [],
   "source": [
    "# Setup matplotlib to display graphs inline in this Notebook\n",
    "%matplotlib inline"
   ]
  },
  {
   "cell_type": "code",
   "execution_count": 17,
   "metadata": {
    "scrolled": false
   },
   "outputs": [
    {
     "name": "stderr",
     "output_type": "stream",
     "text": [
      "[2018-07-12 04:25:57.892387] WARNING: run_algo: Catalyst is currently in ALPHA. It is going through rapid development and it is subject to errors. Please use carefully. We encourage you to report any issue on GitHub: https://github.com/enigmampc/catalyst/issues\n",
      "[2018-07-12 04:25:57.895283] INFO: run_algo: Catalyst version 0.5.15\n",
      "[2018-07-12 04:26:00.900684] INFO: run_algo: running algo in backtest mode\n",
      "[2018-07-12 04:26:00.909487] INFO: exchange_algorithm: initialized trading algorithm in backtest mode\n"
     ]
    },
    {
     "ename": "NoDataAvailableOnExchange",
     "evalue": "Requested data for trading pair ['bat_btc'] is not available on exchange ['binance'] in `minute` frequency at this time. Check `http://enigma.co/catalyst/status` for market coverage.",
     "output_type": "error",
     "traceback": [
      "\u001b[0;31m---------------------------------------------------------------------------\u001b[0m",
      "\u001b[0;31mNoDataAvailableOnExchange\u001b[0m                 Traceback (most recent call last)",
      "\u001b[0;32m<ipython-input-17-fe9a356fcede>\u001b[0m in \u001b[0;36m<module>\u001b[0;34m()\u001b[0m\n\u001b[1;32m    163\u001b[0m             \u001b[0mquote_currency\u001b[0m\u001b[0;34m=\u001b[0m\u001b[0;34m'btc'\u001b[0m\u001b[0;34m,\u001b[0m\u001b[0;34m\u001b[0m\u001b[0m\n\u001b[1;32m    164\u001b[0m             \u001b[0mstart\u001b[0m\u001b[0;34m=\u001b[0m\u001b[0mpd\u001b[0m\u001b[0;34m.\u001b[0m\u001b[0mto_datetime\u001b[0m\u001b[0;34m(\u001b[0m\u001b[0;34m'2018-07-01'\u001b[0m\u001b[0;34m,\u001b[0m \u001b[0mutc\u001b[0m\u001b[0;34m=\u001b[0m\u001b[0;32mTrue\u001b[0m\u001b[0;34m)\u001b[0m\u001b[0;34m,\u001b[0m\u001b[0;34m\u001b[0m\u001b[0m\n\u001b[0;32m--> 165\u001b[0;31m             \u001b[0mend\u001b[0m\u001b[0;34m=\u001b[0m\u001b[0mpd\u001b[0m\u001b[0;34m.\u001b[0m\u001b[0mto_datetime\u001b[0m\u001b[0;34m(\u001b[0m\u001b[0;34m'2018-07-12'\u001b[0m\u001b[0;34m,\u001b[0m \u001b[0mutc\u001b[0m\u001b[0;34m=\u001b[0m\u001b[0;32mTrue\u001b[0m\u001b[0;34m)\u001b[0m\u001b[0;34m,\u001b[0m\u001b[0;34m\u001b[0m\u001b[0m\n\u001b[0m\u001b[1;32m    166\u001b[0m         )\n",
      "\u001b[0;32m~/anaconda/envs/catalyst/lib/python3.6/site-packages/catalyst/utils/run_algo.py\u001b[0m in \u001b[0;36mrun_algorithm\u001b[0;34m(initialize, capital_base, start, end, handle_data, before_trading_start, analyze, data_frequency, data, bundle, bundle_timestamp, default_extension, extensions, strict_extensions, environ, live, exchange_name, quote_currency, algo_namespace, live_graph, analyze_live, simulate_orders, auth_aliases, stats_output, output)\u001b[0m\n\u001b[1;32m    599\u001b[0m         \u001b[0msimulate_orders\u001b[0m\u001b[0;34m=\u001b[0m\u001b[0msimulate_orders\u001b[0m\u001b[0;34m,\u001b[0m\u001b[0;34m\u001b[0m\u001b[0m\n\u001b[1;32m    600\u001b[0m         \u001b[0mauth_aliases\u001b[0m\u001b[0;34m=\u001b[0m\u001b[0mauth_aliases\u001b[0m\u001b[0;34m,\u001b[0m\u001b[0;34m\u001b[0m\u001b[0m\n\u001b[0;32m--> 601\u001b[0;31m         \u001b[0mstats_output\u001b[0m\u001b[0;34m=\u001b[0m\u001b[0mstats_output\u001b[0m\u001b[0;34m\u001b[0m\u001b[0m\n\u001b[0m\u001b[1;32m    602\u001b[0m     )\n",
      "\u001b[0;32m~/anaconda/envs/catalyst/lib/python3.6/site-packages/catalyst/utils/run_algo.py\u001b[0m in \u001b[0;36m_run\u001b[0;34m(handle_data, initialize, before_trading_start, analyze, algofile, algotext, defines, data_frequency, capital_base, data, bundle, bundle_timestamp, start, end, output, print_algo, local_namespace, environ, live, exchange, algo_namespace, quote_currency, live_graph, analyze_live, simulate_orders, auth_aliases, stats_output)\u001b[0m\n\u001b[1;32m    361\u001b[0m     \u001b[0;34m)\u001b[0m\u001b[0;34m.\u001b[0m\u001b[0mrun\u001b[0m\u001b[0;34m(\u001b[0m\u001b[0;34m\u001b[0m\u001b[0m\n\u001b[1;32m    362\u001b[0m         \u001b[0mdata\u001b[0m\u001b[0;34m,\u001b[0m\u001b[0;34m\u001b[0m\u001b[0m\n\u001b[0;32m--> 363\u001b[0;31m         \u001b[0moverwrite_sim_params\u001b[0m\u001b[0;34m=\u001b[0m\u001b[0;32mFalse\u001b[0m\u001b[0;34m,\u001b[0m\u001b[0;34m\u001b[0m\u001b[0m\n\u001b[0m\u001b[1;32m    364\u001b[0m     )\n\u001b[1;32m    365\u001b[0m \u001b[0;34m\u001b[0m\u001b[0m\n",
      "\u001b[0;32m~/anaconda/envs/catalyst/lib/python3.6/site-packages/catalyst/exchange/exchange_algorithm.py\u001b[0m in \u001b[0;36mrun\u001b[0;34m(self, data, overwrite_sim_params)\u001b[0m\n\u001b[1;32m    400\u001b[0m     \u001b[0;32mdef\u001b[0m \u001b[0mrun\u001b[0m\u001b[0;34m(\u001b[0m\u001b[0mself\u001b[0m\u001b[0;34m,\u001b[0m \u001b[0mdata\u001b[0m\u001b[0;34m=\u001b[0m\u001b[0;32mNone\u001b[0m\u001b[0;34m,\u001b[0m \u001b[0moverwrite_sim_params\u001b[0m\u001b[0;34m=\u001b[0m\u001b[0;32mTrue\u001b[0m\u001b[0;34m)\u001b[0m\u001b[0;34m:\u001b[0m\u001b[0;34m\u001b[0m\u001b[0m\n\u001b[1;32m    401\u001b[0m         perf = super(ExchangeTradingAlgorithmBacktest, self).run(\n\u001b[0;32m--> 402\u001b[0;31m             \u001b[0mdata\u001b[0m\u001b[0;34m,\u001b[0m \u001b[0moverwrite_sim_params\u001b[0m\u001b[0;34m\u001b[0m\u001b[0m\n\u001b[0m\u001b[1;32m    403\u001b[0m         )\n\u001b[1;32m    404\u001b[0m         \u001b[0;31m# Rebuilding the stats to support minute data\u001b[0m\u001b[0;34m\u001b[0m\u001b[0;34m\u001b[0m\u001b[0m\n",
      "\u001b[0;32m~/anaconda/envs/catalyst/lib/python3.6/site-packages/catalyst/exchange/exchange_algorithm.py\u001b[0m in \u001b[0;36mrun\u001b[0;34m(self, data, overwrite_sim_params)\u001b[0m\n\u001b[1;32m    357\u001b[0m         \u001b[0mdata\u001b[0m\u001b[0;34m.\u001b[0m\u001b[0mattempts\u001b[0m \u001b[0;34m=\u001b[0m \u001b[0mself\u001b[0m\u001b[0;34m.\u001b[0m\u001b[0mattempts\u001b[0m\u001b[0;34m\u001b[0m\u001b[0m\n\u001b[1;32m    358\u001b[0m         return super(ExchangeTradingAlgorithmBase, self).run(\n\u001b[0;32m--> 359\u001b[0;31m             \u001b[0mdata\u001b[0m\u001b[0;34m,\u001b[0m \u001b[0moverwrite_sim_params\u001b[0m\u001b[0;34m\u001b[0m\u001b[0m\n\u001b[0m\u001b[1;32m    360\u001b[0m         )\n\u001b[1;32m    361\u001b[0m \u001b[0;34m\u001b[0m\u001b[0m\n",
      "\u001b[0;32m~/anaconda/envs/catalyst/lib/python3.6/site-packages/catalyst/algorithm.py\u001b[0m in \u001b[0;36mrun\u001b[0;34m(self, data, overwrite_sim_params)\u001b[0m\n\u001b[1;32m    723\u001b[0m         \u001b[0;32mtry\u001b[0m\u001b[0;34m:\u001b[0m\u001b[0;34m\u001b[0m\u001b[0m\n\u001b[1;32m    724\u001b[0m             \u001b[0mperfs\u001b[0m \u001b[0;34m=\u001b[0m \u001b[0;34m[\u001b[0m\u001b[0;34m]\u001b[0m\u001b[0;34m\u001b[0m\u001b[0m\n\u001b[0;32m--> 725\u001b[0;31m             \u001b[0;32mfor\u001b[0m \u001b[0mperf\u001b[0m \u001b[0;32min\u001b[0m \u001b[0mself\u001b[0m\u001b[0;34m.\u001b[0m\u001b[0mget_generator\u001b[0m\u001b[0;34m(\u001b[0m\u001b[0;34m)\u001b[0m\u001b[0;34m:\u001b[0m\u001b[0;34m\u001b[0m\u001b[0m\n\u001b[0m\u001b[1;32m    726\u001b[0m                 \u001b[0mperfs\u001b[0m\u001b[0;34m.\u001b[0m\u001b[0mappend\u001b[0m\u001b[0;34m(\u001b[0m\u001b[0mperf\u001b[0m\u001b[0;34m)\u001b[0m\u001b[0;34m\u001b[0m\u001b[0m\n\u001b[1;32m    727\u001b[0m \u001b[0;34m\u001b[0m\u001b[0m\n",
      "\u001b[0;32m~/anaconda/envs/catalyst/lib/python3.6/site-packages/catalyst/gens/tradesimulation.py\u001b[0m in \u001b[0;36mtransform\u001b[0;34m(self)\u001b[0m\n\u001b[1;32m    222\u001b[0m             \u001b[0;32mfor\u001b[0m \u001b[0mdt\u001b[0m\u001b[0;34m,\u001b[0m \u001b[0maction\u001b[0m \u001b[0;32min\u001b[0m \u001b[0mself\u001b[0m\u001b[0;34m.\u001b[0m\u001b[0mclock\u001b[0m\u001b[0;34m:\u001b[0m\u001b[0;34m\u001b[0m\u001b[0m\n\u001b[1;32m    223\u001b[0m                 \u001b[0;32mif\u001b[0m \u001b[0maction\u001b[0m \u001b[0;34m==\u001b[0m \u001b[0mBAR\u001b[0m\u001b[0;34m:\u001b[0m\u001b[0;34m\u001b[0m\u001b[0m\n\u001b[0;32m--> 224\u001b[0;31m                     \u001b[0;32mfor\u001b[0m \u001b[0mcapital_change_packet\u001b[0m \u001b[0;32min\u001b[0m \u001b[0mevery_bar\u001b[0m\u001b[0;34m(\u001b[0m\u001b[0mdt\u001b[0m\u001b[0;34m)\u001b[0m\u001b[0;34m:\u001b[0m\u001b[0;34m\u001b[0m\u001b[0m\n\u001b[0m\u001b[1;32m    225\u001b[0m                         \u001b[0;32myield\u001b[0m \u001b[0mcapital_change_packet\u001b[0m\u001b[0;34m\u001b[0m\u001b[0m\n\u001b[1;32m    226\u001b[0m                 \u001b[0;32melif\u001b[0m \u001b[0maction\u001b[0m \u001b[0;34m==\u001b[0m \u001b[0mSESSION_START\u001b[0m\u001b[0;34m:\u001b[0m\u001b[0;34m\u001b[0m\u001b[0m\n",
      "\u001b[0;32m~/anaconda/envs/catalyst/lib/python3.6/site-packages/catalyst/gens/tradesimulation.py\u001b[0m in \u001b[0;36mevery_bar\u001b[0;34m(dt_to_use, current_data, handle_data)\u001b[0m\n\u001b[1;32m    135\u001b[0m                     \u001b[0mperf_tracker\u001b[0m\u001b[0;34m.\u001b[0m\u001b[0mprocess_commission\u001b[0m\u001b[0;34m(\u001b[0m\u001b[0mcommission\u001b[0m\u001b[0;34m)\u001b[0m\u001b[0;34m\u001b[0m\u001b[0m\n\u001b[1;32m    136\u001b[0m \u001b[0;34m\u001b[0m\u001b[0m\n\u001b[0;32m--> 137\u001b[0;31m             \u001b[0mhandle_data\u001b[0m\u001b[0;34m(\u001b[0m\u001b[0malgo\u001b[0m\u001b[0;34m,\u001b[0m \u001b[0mcurrent_data\u001b[0m\u001b[0;34m,\u001b[0m \u001b[0mdt_to_use\u001b[0m\u001b[0;34m)\u001b[0m\u001b[0;34m\u001b[0m\u001b[0m\n\u001b[0m\u001b[1;32m    138\u001b[0m \u001b[0;34m\u001b[0m\u001b[0m\n\u001b[1;32m    139\u001b[0m             \u001b[0;31m# grab any new orders from the blotter, then clear the list.\u001b[0m\u001b[0;34m\u001b[0m\u001b[0;34m\u001b[0m\u001b[0m\n",
      "\u001b[0;32m~/anaconda/envs/catalyst/lib/python3.6/site-packages/catalyst/utils/events.py\u001b[0m in \u001b[0;36mhandle_data\u001b[0;34m(self, context, data, dt)\u001b[0m\n\u001b[1;32m    214\u001b[0m                     \u001b[0mcontext\u001b[0m\u001b[0;34m,\u001b[0m\u001b[0;34m\u001b[0m\u001b[0m\n\u001b[1;32m    215\u001b[0m                     \u001b[0mdata\u001b[0m\u001b[0;34m,\u001b[0m\u001b[0;34m\u001b[0m\u001b[0m\n\u001b[0;32m--> 216\u001b[0;31m                     \u001b[0mdt\u001b[0m\u001b[0;34m,\u001b[0m\u001b[0;34m\u001b[0m\u001b[0m\n\u001b[0m\u001b[1;32m    217\u001b[0m                 )\n\u001b[1;32m    218\u001b[0m \u001b[0;34m\u001b[0m\u001b[0m\n",
      "\u001b[0;32m~/anaconda/envs/catalyst/lib/python3.6/site-packages/catalyst/utils/events.py\u001b[0m in \u001b[0;36mhandle_data\u001b[0;34m(self, context, data, dt)\u001b[0m\n\u001b[1;32m    233\u001b[0m         \"\"\"\n\u001b[1;32m    234\u001b[0m         \u001b[0;32mif\u001b[0m \u001b[0mself\u001b[0m\u001b[0;34m.\u001b[0m\u001b[0mrule\u001b[0m\u001b[0;34m.\u001b[0m\u001b[0mshould_trigger\u001b[0m\u001b[0;34m(\u001b[0m\u001b[0mdt\u001b[0m\u001b[0;34m)\u001b[0m\u001b[0;34m:\u001b[0m\u001b[0;34m\u001b[0m\u001b[0m\n\u001b[0;32m--> 235\u001b[0;31m             \u001b[0mself\u001b[0m\u001b[0;34m.\u001b[0m\u001b[0mcallback\u001b[0m\u001b[0;34m(\u001b[0m\u001b[0mcontext\u001b[0m\u001b[0;34m,\u001b[0m \u001b[0mdata\u001b[0m\u001b[0;34m)\u001b[0m\u001b[0;34m\u001b[0m\u001b[0m\n\u001b[0m\u001b[1;32m    236\u001b[0m \u001b[0;34m\u001b[0m\u001b[0m\n\u001b[1;32m    237\u001b[0m \u001b[0;34m\u001b[0m\u001b[0m\n",
      "\u001b[0;32m~/anaconda/envs/catalyst/lib/python3.6/site-packages/catalyst/exchange/exchange_algorithm.py\u001b[0m in \u001b[0;36mhandle_data\u001b[0;34m(self, data)\u001b[0m\n\u001b[1;32m    378\u001b[0m \u001b[0;34m\u001b[0m\u001b[0m\n\u001b[1;32m    379\u001b[0m     \u001b[0;32mdef\u001b[0m \u001b[0mhandle_data\u001b[0m\u001b[0;34m(\u001b[0m\u001b[0mself\u001b[0m\u001b[0;34m,\u001b[0m \u001b[0mdata\u001b[0m\u001b[0;34m)\u001b[0m\u001b[0;34m:\u001b[0m\u001b[0;34m\u001b[0m\u001b[0m\n\u001b[0;32m--> 380\u001b[0;31m         \u001b[0msuper\u001b[0m\u001b[0;34m(\u001b[0m\u001b[0mExchangeTradingAlgorithmBacktest\u001b[0m\u001b[0;34m,\u001b[0m \u001b[0mself\u001b[0m\u001b[0;34m)\u001b[0m\u001b[0;34m.\u001b[0m\u001b[0mhandle_data\u001b[0m\u001b[0;34m(\u001b[0m\u001b[0mdata\u001b[0m\u001b[0;34m)\u001b[0m\u001b[0;34m\u001b[0m\u001b[0m\n\u001b[0m\u001b[1;32m    381\u001b[0m \u001b[0;34m\u001b[0m\u001b[0m\n\u001b[1;32m    382\u001b[0m         \u001b[0;32mif\u001b[0m \u001b[0mself\u001b[0m\u001b[0;34m.\u001b[0m\u001b[0mdata_frequency\u001b[0m \u001b[0;34m==\u001b[0m \u001b[0;34m'minute'\u001b[0m\u001b[0;34m:\u001b[0m\u001b[0;34m\u001b[0m\u001b[0m\n",
      "\u001b[0;32m~/anaconda/envs/catalyst/lib/python3.6/site-packages/catalyst/algorithm.py\u001b[0m in \u001b[0;36mhandle_data\u001b[0;34m(self, data)\u001b[0m\n\u001b[1;32m    472\u001b[0m     \u001b[0;32mdef\u001b[0m \u001b[0mhandle_data\u001b[0m\u001b[0;34m(\u001b[0m\u001b[0mself\u001b[0m\u001b[0;34m,\u001b[0m \u001b[0mdata\u001b[0m\u001b[0;34m)\u001b[0m\u001b[0;34m:\u001b[0m\u001b[0;34m\u001b[0m\u001b[0m\n\u001b[1;32m    473\u001b[0m         \u001b[0;32mif\u001b[0m \u001b[0mself\u001b[0m\u001b[0;34m.\u001b[0m\u001b[0m_handle_data\u001b[0m\u001b[0;34m:\u001b[0m\u001b[0;34m\u001b[0m\u001b[0m\n\u001b[0;32m--> 474\u001b[0;31m             \u001b[0mself\u001b[0m\u001b[0;34m.\u001b[0m\u001b[0m_handle_data\u001b[0m\u001b[0;34m(\u001b[0m\u001b[0mself\u001b[0m\u001b[0;34m,\u001b[0m \u001b[0mdata\u001b[0m\u001b[0;34m)\u001b[0m\u001b[0;34m\u001b[0m\u001b[0m\n\u001b[0m\u001b[1;32m    475\u001b[0m \u001b[0;34m\u001b[0m\u001b[0m\n\u001b[1;32m    476\u001b[0m         \u001b[0;31m# Unlike trading controls which remain constant unless placing an\u001b[0m\u001b[0;34m\u001b[0m\u001b[0;34m\u001b[0m\u001b[0m\n",
      "\u001b[0;32m<ipython-input-17-fe9a356fcede>\u001b[0m in \u001b[0;36mhandle_data\u001b[0;34m(context, data)\u001b[0m\n\u001b[1;32m     37\u001b[0m                               \u001b[0;34m'price'\u001b[0m\u001b[0;34m,\u001b[0m\u001b[0;34m\u001b[0m\u001b[0m\n\u001b[1;32m     38\u001b[0m                               \u001b[0mbar_count\u001b[0m\u001b[0;34m=\u001b[0m\u001b[0mshort_window\u001b[0m\u001b[0;34m,\u001b[0m\u001b[0;34m\u001b[0m\u001b[0m\n\u001b[0;32m---> 39\u001b[0;31m                               \u001b[0mfrequency\u001b[0m\u001b[0;34m=\u001b[0m\u001b[0;34m\"1T\"\u001b[0m\u001b[0;34m,\u001b[0m\u001b[0;34m\u001b[0m\u001b[0m\n\u001b[0m\u001b[1;32m     40\u001b[0m                               )\n\u001b[1;32m     41\u001b[0m     \u001b[0mshort_mavg\u001b[0m \u001b[0;34m=\u001b[0m \u001b[0mshort_data\u001b[0m\u001b[0;34m.\u001b[0m\u001b[0mmean\u001b[0m\u001b[0;34m(\u001b[0m\u001b[0;34m)\u001b[0m\u001b[0;34m\u001b[0m\u001b[0m\n",
      "\u001b[0;32m~/anaconda/envs/catalyst/lib/python3.6/site-packages/catalyst/_protocol.pyx\u001b[0m in \u001b[0;36mcatalyst._protocol.check_parameters.__call__.assert_keywords_and_call\u001b[0;34m()\u001b[0m\n",
      "\u001b[0;32m~/anaconda/envs/catalyst/lib/python3.6/site-packages/catalyst/_protocol.pyx\u001b[0m in \u001b[0;36mcatalyst._protocol.BarData.history\u001b[0;34m()\u001b[0m\n",
      "\u001b[0;32m~/anaconda/envs/catalyst/lib/python3.6/site-packages/catalyst/exchange/exchange_data_portal.py\u001b[0m in \u001b[0;36mget_history_window\u001b[0;34m(self, assets, end_dt, bar_count, frequency, field, data_frequency, ffill)\u001b[0m\n\u001b[1;32m     95\u001b[0m                   \u001b[0mfield\u001b[0m\u001b[0;34m,\u001b[0m\u001b[0;34m\u001b[0m\u001b[0m\n\u001b[1;32m     96\u001b[0m                   \u001b[0mdata_frequency\u001b[0m\u001b[0;34m,\u001b[0m\u001b[0;34m\u001b[0m\u001b[0m\n\u001b[0;32m---> 97\u001b[0;31m                   ffill))\n\u001b[0m\u001b[1;32m     98\u001b[0m \u001b[0;34m\u001b[0m\u001b[0m\n\u001b[1;32m     99\u001b[0m     \u001b[0;34m@\u001b[0m\u001b[0mabc\u001b[0m\u001b[0;34m.\u001b[0m\u001b[0mabstractmethod\u001b[0m\u001b[0;34m\u001b[0m\u001b[0m\n",
      "\u001b[0;32m~/anaconda/envs/catalyst/lib/python3.6/site-packages/redo/__init__.py\u001b[0m in \u001b[0;36mretry\u001b[0;34m(action, attempts, sleeptime, max_sleeptime, sleepscale, jitter, retry_exceptions, cleanup, args, kwargs)\u001b[0m\n\u001b[1;32m    160\u001b[0m             \u001b[0mlogfn\u001b[0m \u001b[0;34m=\u001b[0m \u001b[0mlog\u001b[0m\u001b[0;34m.\u001b[0m\u001b[0minfo\u001b[0m \u001b[0;32mif\u001b[0m \u001b[0mn\u001b[0m \u001b[0;34m!=\u001b[0m \u001b[0;36m1\u001b[0m \u001b[0;32melse\u001b[0m \u001b[0mlog\u001b[0m\u001b[0;34m.\u001b[0m\u001b[0mdebug\u001b[0m\u001b[0;34m\u001b[0m\u001b[0m\n\u001b[1;32m    161\u001b[0m             \u001b[0mlogfn\u001b[0m\u001b[0;34m(\u001b[0m\u001b[0mlog_attempt_format\u001b[0m\u001b[0;34m,\u001b[0m \u001b[0mn\u001b[0m\u001b[0;34m)\u001b[0m\u001b[0;34m\u001b[0m\u001b[0m\n\u001b[0;32m--> 162\u001b[0;31m             \u001b[0;32mreturn\u001b[0m \u001b[0maction\u001b[0m\u001b[0;34m(\u001b[0m\u001b[0;34m*\u001b[0m\u001b[0margs\u001b[0m\u001b[0;34m,\u001b[0m \u001b[0;34m**\u001b[0m\u001b[0mkwargs\u001b[0m\u001b[0;34m)\u001b[0m\u001b[0;34m\u001b[0m\u001b[0m\n\u001b[0m\u001b[1;32m    163\u001b[0m         \u001b[0;32mexcept\u001b[0m \u001b[0mretry_exceptions\u001b[0m\u001b[0;34m:\u001b[0m\u001b[0;34m\u001b[0m\u001b[0m\n\u001b[1;32m    164\u001b[0m             \u001b[0mlog\u001b[0m\u001b[0;34m.\u001b[0m\u001b[0mdebug\u001b[0m\u001b[0;34m(\u001b[0m\u001b[0;34m\"retry: Caught exception: \"\u001b[0m\u001b[0;34m,\u001b[0m \u001b[0mexc_info\u001b[0m\u001b[0;34m=\u001b[0m\u001b[0;32mTrue\u001b[0m\u001b[0;34m)\u001b[0m\u001b[0;34m\u001b[0m\u001b[0m\n",
      "\u001b[0;32m~/anaconda/envs/catalyst/lib/python3.6/site-packages/catalyst/exchange/exchange_data_portal.py\u001b[0m in \u001b[0;36m_get_history_window\u001b[0;34m(self, assets, end_dt, bar_count, frequency, field, data_frequency, ffill)\u001b[0m\n\u001b[1;32m     69\u001b[0m                 \u001b[0mfield\u001b[0m\u001b[0;34m,\u001b[0m\u001b[0;34m\u001b[0m\u001b[0m\n\u001b[1;32m     70\u001b[0m                 \u001b[0mdata_frequency\u001b[0m\u001b[0;34m,\u001b[0m\u001b[0;34m\u001b[0m\u001b[0m\n\u001b[0;32m---> 71\u001b[0;31m                 ffill)\n\u001b[0m\u001b[1;32m     72\u001b[0m \u001b[0;34m\u001b[0m\u001b[0m\n\u001b[1;32m     73\u001b[0m     def get_history_window(self,\n",
      "\u001b[0;32m~/anaconda/envs/catalyst/lib/python3.6/site-packages/catalyst/exchange/exchange_data_portal.py\u001b[0m in \u001b[0;36mget_exchange_history_window\u001b[0;34m(self, exchange_name, assets, end_dt, bar_count, frequency, field, data_frequency, ffill)\u001b[0m\n\u001b[1;32m    323\u001b[0m             \u001b[0mfield\u001b[0m\u001b[0;34m=\u001b[0m\u001b[0mfield\u001b[0m\u001b[0;34m,\u001b[0m\u001b[0;34m\u001b[0m\u001b[0m\n\u001b[1;32m    324\u001b[0m             \u001b[0mdata_frequency\u001b[0m\u001b[0;34m=\u001b[0m\u001b[0madj_data_frequency\u001b[0m\u001b[0;34m,\u001b[0m\u001b[0;34m\u001b[0m\u001b[0m\n\u001b[0;32m--> 325\u001b[0;31m             \u001b[0malgo_end_dt\u001b[0m\u001b[0;34m=\u001b[0m\u001b[0mself\u001b[0m\u001b[0;34m.\u001b[0m\u001b[0m_last_available_session\u001b[0m\u001b[0;34m,\u001b[0m\u001b[0;34m\u001b[0m\u001b[0m\n\u001b[0m\u001b[1;32m    326\u001b[0m         )\n\u001b[1;32m    327\u001b[0m \u001b[0;34m\u001b[0m\u001b[0m\n",
      "\u001b[0;32m~/anaconda/envs/catalyst/lib/python3.6/site-packages/catalyst/exchange/exchange_bundle.py\u001b[0m in \u001b[0;36mget_history_window_series_and_load\u001b[0;34m(self, assets, end_dt, bar_count, field, data_frequency, algo_end_dt, force_auto_ingest)\u001b[0m\n\u001b[1;32m    896\u001b[0m                 \u001b[0mbar_count\u001b[0m\u001b[0;34m=\u001b[0m\u001b[0mbar_count\u001b[0m\u001b[0;34m,\u001b[0m\u001b[0;34m\u001b[0m\u001b[0m\n\u001b[1;32m    897\u001b[0m                 \u001b[0mfield\u001b[0m\u001b[0;34m=\u001b[0m\u001b[0mfield\u001b[0m\u001b[0;34m,\u001b[0m\u001b[0;34m\u001b[0m\u001b[0m\n\u001b[0;32m--> 898\u001b[0;31m                 \u001b[0mdata_frequency\u001b[0m\u001b[0;34m=\u001b[0m\u001b[0mdata_frequency\u001b[0m\u001b[0;34m,\u001b[0m\u001b[0;34m\u001b[0m\u001b[0m\n\u001b[0m\u001b[1;32m    899\u001b[0m             )\n\u001b[1;32m    900\u001b[0m             \u001b[0;32mreturn\u001b[0m \u001b[0mpd\u001b[0m\u001b[0;34m.\u001b[0m\u001b[0mDataFrame\u001b[0m\u001b[0;34m(\u001b[0m\u001b[0mseries\u001b[0m\u001b[0;34m)\u001b[0m\u001b[0;34m\u001b[0m\u001b[0m\n",
      "\u001b[0;32m~/anaconda/envs/catalyst/lib/python3.6/site-packages/catalyst/exchange/exchange_bundle.py\u001b[0m in \u001b[0;36mget_history_window_series\u001b[0;34m(self, assets, end_dt, bar_count, field, data_frequency, reset_reader)\u001b[0m\n\u001b[1;32m    963\u001b[0m         \u001b[0mstart_dt\u001b[0m \u001b[0;34m=\u001b[0m \u001b[0mget_start_dt\u001b[0m\u001b[0;34m(\u001b[0m\u001b[0mend_dt\u001b[0m\u001b[0;34m,\u001b[0m \u001b[0mbar_count\u001b[0m\u001b[0;34m,\u001b[0m \u001b[0mdata_frequency\u001b[0m\u001b[0;34m,\u001b[0m \u001b[0;32mFalse\u001b[0m\u001b[0;34m)\u001b[0m\u001b[0;34m\u001b[0m\u001b[0m\n\u001b[1;32m    964\u001b[0m         start_dt, _ = self.get_adj_dates(\n\u001b[0;32m--> 965\u001b[0;31m             \u001b[0mstart_dt\u001b[0m\u001b[0;34m,\u001b[0m \u001b[0mend_dt\u001b[0m\u001b[0;34m,\u001b[0m \u001b[0massets\u001b[0m\u001b[0;34m,\u001b[0m \u001b[0mdata_frequency\u001b[0m\u001b[0;34m\u001b[0m\u001b[0m\n\u001b[0m\u001b[1;32m    966\u001b[0m         )\n\u001b[1;32m    967\u001b[0m \u001b[0;34m\u001b[0m\u001b[0m\n",
      "\u001b[0;32m~/anaconda/envs/catalyst/lib/python3.6/site-packages/catalyst/exchange/exchange_bundle.py\u001b[0m in \u001b[0;36mget_adj_dates\u001b[0;34m(self, start, end, assets, data_frequency)\u001b[0m\n\u001b[1;32m    470\u001b[0m                 \u001b[0mexchange\u001b[0m\u001b[0;34m=\u001b[0m\u001b[0;34m[\u001b[0m\u001b[0masset\u001b[0m\u001b[0;34m.\u001b[0m\u001b[0mexchange\u001b[0m \u001b[0;32mfor\u001b[0m \u001b[0masset\u001b[0m \u001b[0;32min\u001b[0m \u001b[0massets\u001b[0m\u001b[0;34m]\u001b[0m\u001b[0;34m,\u001b[0m\u001b[0;34m\u001b[0m\u001b[0m\n\u001b[1;32m    471\u001b[0m                 \u001b[0msymbol\u001b[0m\u001b[0;34m=\u001b[0m\u001b[0;34m[\u001b[0m\u001b[0masset\u001b[0m\u001b[0;34m.\u001b[0m\u001b[0msymbol\u001b[0m \u001b[0;32mfor\u001b[0m \u001b[0masset\u001b[0m \u001b[0;32min\u001b[0m \u001b[0massets\u001b[0m\u001b[0;34m]\u001b[0m\u001b[0;34m,\u001b[0m\u001b[0;34m\u001b[0m\u001b[0m\n\u001b[0;32m--> 472\u001b[0;31m                 \u001b[0mdata_frequency\u001b[0m\u001b[0;34m=\u001b[0m\u001b[0mdata_frequency\u001b[0m\u001b[0;34m,\u001b[0m\u001b[0;34m\u001b[0m\u001b[0m\n\u001b[0m\u001b[1;32m    473\u001b[0m             )\n\u001b[1;32m    474\u001b[0m \u001b[0;34m\u001b[0m\u001b[0m\n",
      "\u001b[0;31mNoDataAvailableOnExchange\u001b[0m: Requested data for trading pair ['bat_btc'] is not available on exchange ['binance'] in `minute` frequency at this time. Check `http://enigma.co/catalyst/status` for market coverage."
     ]
    }
   ],
   "source": [
    "# %%catalyst --start 2018-1-1 --end 2018-7-12 --capital-base 100000 -x binance -c btc --data-frequency minute\n",
    "\n",
    "import matplotlib.pyplot as plt\n",
    "import numpy as np\n",
    "import pandas as pd\n",
    "from logbook import Logger\n",
    "\n",
    "from catalyst import run_algorithm\n",
    "from catalyst.api import (record, symbol, order_target_percent,)\n",
    "from catalyst.exchange.utils.stats_utils import extract_transactions\n",
    "\n",
    "NAMESPACE = 'dual_moving_average'\n",
    "log = Logger(NAMESPACE)\n",
    "\n",
    "\n",
    "def initialize(context):\n",
    "    context.i = 0\n",
    "    context.asset = symbol('bat_btc')\n",
    "    context.base_price = None\n",
    "\n",
    "\n",
    "def handle_data(context, data):\n",
    "    # define the windows for the moving averages\n",
    "    short_window = 10\n",
    "    long_window = 20\n",
    "\n",
    "    # Skip as many bars as long_window to properly compute the average\n",
    "    context.i += 1\n",
    "    if context.i < long_window:\n",
    "        return\n",
    "\n",
    "    # Compute moving averages calling data.history() for each\n",
    "    # moving average with the appropriate parameters. We choose to use\n",
    "    # minute bars for this simulation -> freq=\"1m\"\n",
    "    # Returns a pandas dataframe.\n",
    "    short_data = data.history(context.asset,\n",
    "                              'price',\n",
    "                              bar_count=short_window,\n",
    "                              frequency=\"1T\",\n",
    "                              )\n",
    "    short_mavg = short_data.mean()\n",
    "    long_data = data.history(context.asset,\n",
    "                             'price',\n",
    "                             bar_count=long_window,\n",
    "                             frequency=\"1T\",\n",
    "                             )\n",
    "    long_mavg = long_data.mean()\n",
    "\n",
    "    # Let's keep the price of our asset in a more handy variable\n",
    "    price = data.current(context.asset, 'price')\n",
    "\n",
    "    # If base_price is not set, we use the current value. This is the\n",
    "    # price at the first bar which we reference to calculate price_change.\n",
    "    if context.base_price is None:\n",
    "        context.base_price = price\n",
    "    price_change = (price - context.base_price) / context.base_price\n",
    "\n",
    "    # Save values for later inspection\n",
    "    record(price=price,\n",
    "           cash=context.portfolio.cash,\n",
    "           price_change=price_change,\n",
    "           short_mavg=short_mavg,\n",
    "           long_mavg=long_mavg)\n",
    "\n",
    "    # Since we are using limit orders, some orders may not execute immediately\n",
    "    # we wait until all orders are executed before considering more trades.\n",
    "    orders = context.blotter.open_orders\n",
    "    if len(orders) > 0:\n",
    "        return\n",
    "\n",
    "    # Exit if we cannot trade\n",
    "    if not data.can_trade(context.asset):\n",
    "        return\n",
    "\n",
    "    # We check what's our position on our portfolio and trade accordingly\n",
    "    pos_amount = context.portfolio.positions[context.asset].amount\n",
    "\n",
    "    # Trading logic\n",
    "    if short_mavg > long_mavg and pos_amount == 0:\n",
    "        # we buy 100% of our portfolio for this asset\n",
    "        order_target_percent(context.asset, 1)\n",
    "    elif short_mavg < long_mavg and pos_amount > 0:\n",
    "        # we sell all our positions for this asset\n",
    "        order_target_percent(context.asset, 0)\n",
    "\n",
    "\n",
    "def analyze(context, perf):\n",
    "    # Get the quote_currency that was passed as a parameter to the simulation\n",
    "    exchange = list(context.exchanges.values())[0]\n",
    "    quote_currency = exchange.quote_currency.upper()\n",
    "\n",
    "    # First chart: Plot portfolio value using quote_currency\n",
    "    ax1 = plt.subplot(411)\n",
    "    perf.loc[:, ['portfolio_value']].plot(ax=ax1)\n",
    "    ax1.legend_.remove()\n",
    "    ax1.set_ylabel('Portfolio Value\\n({})'.format(quote_currency))\n",
    "    start, end = ax1.get_ylim()\n",
    "    ax1.yaxis.set_ticks(np.arange(start, end, (end - start) / 5))\n",
    "\n",
    "    # Second chart: Plot asset price, moving averages and buys/sells\n",
    "    ax2 = plt.subplot(412, sharex=ax1)\n",
    "    perf.loc[:, ['price', 'short_mavg', 'long_mavg']].plot(\n",
    "        ax=ax2,\n",
    "        label='Price')\n",
    "    ax2.legend_.remove()\n",
    "    ax2.set_ylabel('{asset}\\n({quote})'.format(\n",
    "        asset=context.asset.symbol,\n",
    "        quote=quote_currency\n",
    "    ))\n",
    "    start, end = ax2.get_ylim()\n",
    "    ax2.yaxis.set_ticks(np.arange(start, end, (end - start) / 5))\n",
    "\n",
    "    transaction_df = extract_transactions(perf)\n",
    "    if not transaction_df.empty:\n",
    "        buy_df = transaction_df[transaction_df['amount'] > 0]\n",
    "        sell_df = transaction_df[transaction_df['amount'] < 0]\n",
    "        ax2.scatter(\n",
    "            buy_df.index.to_pydatetime(),\n",
    "            perf.loc[buy_df.index, 'price'],\n",
    "            marker='^',\n",
    "            s=100,\n",
    "            c='green',\n",
    "            label=''\n",
    "        )\n",
    "        ax2.scatter(\n",
    "            sell_df.index.to_pydatetime(),\n",
    "            perf.loc[sell_df.index, 'price'],\n",
    "            marker='v',\n",
    "            s=100,\n",
    "            c='red',\n",
    "            label=''\n",
    "        )\n",
    "\n",
    "    # Third chart: Compare percentage change between our portfolio\n",
    "    # and the price of the asset\n",
    "    ax3 = plt.subplot(413, sharex=ax1)\n",
    "    perf.loc[:, ['algorithm_period_return', 'price_change']].plot(ax=ax3)\n",
    "    ax3.legend_.remove()\n",
    "    ax3.set_ylabel('Percent Change')\n",
    "    start, end = ax3.get_ylim()\n",
    "    ax3.yaxis.set_ticks(np.arange(start, end, (end - start) / 5))\n",
    "\n",
    "    # Fourth chart: Plot our cash\n",
    "    ax4 = plt.subplot(414, sharex=ax1)\n",
    "    perf.cash.plot(ax=ax4)\n",
    "    ax4.set_ylabel('Cash\\n({})'.format(quote_currency))\n",
    "    start, end = ax4.get_ylim()\n",
    "    ax4.yaxis.set_ticks(np.arange(0, end, end / 5))\n",
    "\n",
    "    plt.show()\n",
    "\n",
    "\n",
    "if __name__ == '__main__':\n",
    "    \n",
    "    run_algorithm(\n",
    "            capital_base=1000,\n",
    "            data_frequency='minute',\n",
    "            initialize=initialize,\n",
    "            handle_data=handle_data,\n",
    "            analyze=analyze,\n",
    "            exchange_name='binance',\n",
    "            algo_namespace=NAMESPACE,\n",
    "            quote_currency='btc',\n",
    "            start=pd.to_datetime('2018-07-01', utc=True),\n",
    "            end=pd.to_datetime('2018-07-11', utc=True),\n",
    "        )"
   ]
  },
  {
   "cell_type": "code",
   "execution_count": null,
   "metadata": {
    "collapsed": true
   },
   "outputs": [],
   "source": []
  }
 ],
 "metadata": {
  "kernelspec": {
   "display_name": "Python 3",
   "language": "python",
   "name": "python3"
  },
  "language_info": {
   "codemirror_mode": {
    "name": "ipython",
    "version": 3
   },
   "file_extension": ".py",
   "mimetype": "text/x-python",
   "name": "python",
   "nbconvert_exporter": "python",
   "pygments_lexer": "ipython3",
   "version": "3.6.4"
  }
 },
 "nbformat": 4,
 "nbformat_minor": 2
}
